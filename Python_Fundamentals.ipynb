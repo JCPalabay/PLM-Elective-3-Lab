{
  "nbformat": 4,
  "nbformat_minor": 0,
  "metadata": {
    "colab": {
      "provenance": [],
      "authorship_tag": "ABX9TyPy6pme01KM+ZPJmnkJr33f",
      "include_colab_link": true
    },
    "kernelspec": {
      "name": "python3",
      "display_name": "Python 3"
    },
    "language_info": {
      "name": "python"
    }
  },
  "cells": [
    {
      "cell_type": "markdown",
      "metadata": {
        "id": "view-in-github",
        "colab_type": "text"
      },
      "source": [
        "<a href=\"https://colab.research.google.com/github/JCPalabay/PLM-Elective-3-Lab/blob/main/Python_Fundamentals.ipynb\" target=\"_parent\"><img src=\"https://colab.research.google.com/assets/colab-badge.svg\" alt=\"Open In Colab\"/></a>"
      ]
    },
    {
      "cell_type": "markdown",
      "source": [
        "Python Indentation"
      ],
      "metadata": {
        "id": "SxNkutTMr4tp"
      }
    },
    {
      "cell_type": "code",
      "source": [
        "x = 5\n",
        "y = 2\n",
        "if x > y:\n",
        "  print(\"Five is greater than two\")"
      ],
      "metadata": {
        "id": "jcSNDEVDr6W2",
        "outputId": "865a7bd4-890e-4988-8677-460352ee518c",
        "colab": {
          "base_uri": "https://localhost:8080/"
        }
      },
      "execution_count": 1,
      "outputs": [
        {
          "output_type": "stream",
          "name": "stdout",
          "text": [
            "Five is greater than two\n"
          ]
        }
      ]
    },
    {
      "cell_type": "markdown",
      "source": [
        "Python Comments"
      ],
      "metadata": {
        "id": "b5GWhoPcsDdQ"
      }
    },
    {
      "cell_type": "code",
      "source": [
        "print(\"Hello World\") #This is a python comment"
      ],
      "metadata": {
        "id": "zvtkpyActfYP",
        "outputId": "715e725d-712c-47c5-b379-c46511a97533",
        "colab": {
          "base_uri": "https://localhost:8080/"
        }
      },
      "execution_count": 2,
      "outputs": [
        {
          "output_type": "stream",
          "name": "stdout",
          "text": [
            "Hello World\n"
          ]
        }
      ]
    },
    {
      "cell_type": "markdown",
      "source": [
        "Python Variable"
      ],
      "metadata": {
        "id": "FgpHyFdouE-d"
      }
    },
    {
      "cell_type": "code",
      "source": [
        "z = 1\n",
        "z, s = 0, -1\n",
        "z, s, t = 8, 9, 10\n",
        "\n",
        "z\n",
        "s\n",
        "t"
      ],
      "metadata": {
        "id": "ERtfvR2_uHbf",
        "outputId": "6b72d1a0-1207-46c7-c7f5-ab6d63de99df",
        "colab": {
          "base_uri": "https://localhost:8080/"
        }
      },
      "execution_count": 3,
      "outputs": [
        {
          "output_type": "execute_result",
          "data": {
            "text/plain": [
              "10"
            ]
          },
          "metadata": {},
          "execution_count": 3
        }
      ]
    },
    {
      "cell_type": "markdown",
      "source": [
        "Casting"
      ],
      "metadata": {
        "id": "n9oVgn7ouL4X"
      }
    },
    {
      "cell_type": "code",
      "source": [
        "b = \"Sally\" #This is a string\n",
        "b = float(4)\n",
        "b"
      ],
      "metadata": {
        "id": "Az3nUvq3uOpH",
        "outputId": "ace808db-8a79-4861-e391-595936c4976b",
        "colab": {
          "base_uri": "https://localhost:8080/"
        }
      },
      "execution_count": 4,
      "outputs": [
        {
          "output_type": "execute_result",
          "data": {
            "text/plain": [
              "4.0"
            ]
          },
          "metadata": {},
          "execution_count": 4
        }
      ]
    },
    {
      "cell_type": "markdown",
      "source": [
        "Type () Function"
      ],
      "metadata": {
        "id": "jcTgkcTluSv3"
      }
    },
    {
      "cell_type": "code",
      "source": [
        "print(type(b))"
      ],
      "metadata": {
        "id": "kKEH2UwluW1H",
        "outputId": "9b087194-dfb8-4d6d-87b2-db99cdacc0f8",
        "colab": {
          "base_uri": "https://localhost:8080/"
        }
      },
      "execution_count": 5,
      "outputs": [
        {
          "output_type": "stream",
          "name": "stdout",
          "text": [
            "<class 'float'>\n"
          ]
        }
      ]
    },
    {
      "cell_type": "markdown",
      "source": [
        "Double Quotes and Single Quotes"
      ],
      "metadata": {
        "id": "ps5Mnb5nuhBv"
      }
    },
    {
      "cell_type": "code",
      "source": [
        "w = \"Ana\"\n",
        "print(w)\n",
        "q = 'Ana'\n",
        "print(q)"
      ],
      "metadata": {
        "id": "OFrhLVTsuj9X",
        "outputId": "7eb536e5-43a7-4b7a-896b-7ff3ff03613d",
        "colab": {
          "base_uri": "https://localhost:8080/"
        }
      },
      "execution_count": 6,
      "outputs": [
        {
          "output_type": "stream",
          "name": "stdout",
          "text": [
            "Ana\n",
            "Ana\n"
          ]
        }
      ]
    },
    {
      "cell_type": "markdown",
      "source": [
        "Case Sensitive"
      ],
      "metadata": {
        "id": "SwfkAxkpuoiP"
      }
    },
    {
      "cell_type": "code",
      "source": [
        "a = int(4)\n",
        "A = \"Sally\"\n",
        "a\n",
        "A"
      ],
      "metadata": {
        "id": "rVNkXjr8urE3",
        "outputId": "d20cbe39-b6ea-4062-d80c-569b22ce0d0a",
        "colab": {
          "base_uri": "https://localhost:8080/",
          "height": 36
        }
      },
      "execution_count": 7,
      "outputs": [
        {
          "output_type": "execute_result",
          "data": {
            "text/plain": [
              "'Sally'"
            ],
            "application/vnd.google.colaboratory.intrinsic+json": {
              "type": "string"
            }
          },
          "metadata": {},
          "execution_count": 7
        }
      ]
    },
    {
      "cell_type": "markdown",
      "source": [
        "Multiple Variables"
      ],
      "metadata": {
        "id": "UEPa-zGRvAXc"
      }
    },
    {
      "cell_type": "code",
      "source": [
        "h, i, j = \"one\", \"two\", \"three\"\n",
        "print(h)\n",
        "print(i)\n",
        "print(j)"
      ],
      "metadata": {
        "id": "wWIxXDlEvJq6",
        "outputId": "23e144a7-625b-4110-88e8-c2c18dde4e13",
        "colab": {
          "base_uri": "https://localhost:8080/"
        }
      },
      "execution_count": 8,
      "outputs": [
        {
          "output_type": "stream",
          "name": "stdout",
          "text": [
            "one\n",
            "two\n",
            "three\n"
          ]
        }
      ]
    },
    {
      "cell_type": "markdown",
      "source": [
        "Multiple Variables with Single Value"
      ],
      "metadata": {
        "id": "K7Sle3j2vMcL"
      }
    },
    {
      "cell_type": "code",
      "source": [
        "k = l = m = \"four\"\n",
        "print(k)\n",
        "print(l)\n",
        "print(m)"
      ],
      "metadata": {
        "id": "xZy7yGLovOnz",
        "outputId": "47306ba3-63ac-4e43-fa52-885e9135451e",
        "colab": {
          "base_uri": "https://localhost:8080/"
        }
      },
      "execution_count": 9,
      "outputs": [
        {
          "output_type": "stream",
          "name": "stdout",
          "text": [
            "four\n",
            "four\n",
            "four\n"
          ]
        }
      ]
    },
    {
      "cell_type": "markdown",
      "source": [
        "Output Variables and Concatenation +"
      ],
      "metadata": {
        "id": "eHmEpRrVvkmC"
      }
    },
    {
      "cell_type": "code",
      "source": [
        "n = \"enjoying\"\n",
        "p = \"Python Programming is \"\n",
        "print(p + n)"
      ],
      "metadata": {
        "id": "EjMrs5idvwiW",
        "outputId": "fb6a9851-3f3b-4938-c700-06d0dcf94efd",
        "colab": {
          "base_uri": "https://localhost:8080/"
        }
      },
      "execution_count": 10,
      "outputs": [
        {
          "output_type": "stream",
          "name": "stdout",
          "text": [
            "Python Programming is enjoying\n"
          ]
        }
      ]
    },
    {
      "cell_type": "markdown",
      "source": [
        "Arithmetic Operations"
      ],
      "metadata": {
        "id": "RtE_4Eqwv722"
      }
    },
    {
      "cell_type": "code",
      "source": [
        "x = 3\n",
        "y = 2\n",
        "print(x+y) #Addition\n",
        "print(x-y) #Subtraction\n",
        "print(x*y) #Multiplication\n",
        "print(round(5/3), 2) #Division\n",
        "print(x//y) #Floor Division\n",
        "print(x%y) #Modulus\n",
        "print(x**y) #Exponentation"
      ],
      "metadata": {
        "id": "EWdCB8Clv-TI",
        "outputId": "11740eb2-3072-4709-8836-431e20760518",
        "colab": {
          "base_uri": "https://localhost:8080/"
        }
      },
      "execution_count": 11,
      "outputs": [
        {
          "output_type": "stream",
          "name": "stdout",
          "text": [
            "5\n",
            "1\n",
            "6\n",
            "2 2\n",
            "1\n",
            "1\n",
            "9\n"
          ]
        }
      ]
    },
    {
      "cell_type": "markdown",
      "source": [
        "Assignment Operator"
      ],
      "metadata": {
        "id": "-pfcas-3wEvQ"
      }
    },
    {
      "cell_type": "code",
      "source": [
        "x += 3 #same as x = x + 3\n",
        "print(x)"
      ],
      "metadata": {
        "id": "8TD_WZicwOyu",
        "outputId": "9cd8e93c-e099-48f3-d1c6-6de218303de6",
        "colab": {
          "base_uri": "https://localhost:8080/"
        }
      },
      "execution_count": 12,
      "outputs": [
        {
          "output_type": "stream",
          "name": "stdout",
          "text": [
            "6\n"
          ]
        }
      ]
    },
    {
      "cell_type": "markdown",
      "source": [
        "Comparison Operator"
      ],
      "metadata": {
        "id": "FD9qRKxgwRN-"
      }
    },
    {
      "cell_type": "code",
      "source": [
        "# x = 3, y = 2\n",
        "print(x > y) #Greater than\n",
        "print(x < y) #Less than\n",
        "print(x == y) #Equal to\n",
        "print(x != y) #Not equal to"
      ],
      "metadata": {
        "id": "aixKghIuwTNQ",
        "outputId": "048c328b-d4c0-463a-cc9b-71498d7451a6",
        "colab": {
          "base_uri": "https://localhost:8080/"
        }
      },
      "execution_count": 13,
      "outputs": [
        {
          "output_type": "stream",
          "name": "stdout",
          "text": [
            "True\n",
            "False\n",
            "False\n",
            "True\n"
          ]
        }
      ]
    },
    {
      "cell_type": "markdown",
      "source": [
        "Logical Operators"
      ],
      "metadata": {
        "id": "dcjW39uPwWDW"
      }
    },
    {
      "cell_type": "code",
      "source": [
        "print(x == y and x != y) #False and True\n",
        "print(x == y or x != y) #False or True\n",
        "print(not(x == y or x != y)) #negate(False or True)"
      ],
      "metadata": {
        "id": "JJkXMLHwwYge",
        "outputId": "c398a52d-2910-4d20-cf3d-c3cab9e68b0a",
        "colab": {
          "base_uri": "https://localhost:8080/"
        }
      },
      "execution_count": 14,
      "outputs": [
        {
          "output_type": "stream",
          "name": "stdout",
          "text": [
            "False\n",
            "True\n",
            "False\n"
          ]
        }
      ]
    },
    {
      "cell_type": "markdown",
      "source": [
        "Identity Operators"
      ],
      "metadata": {
        "id": "cUptCxQtwowb"
      }
    },
    {
      "cell_type": "code",
      "source": [
        "x = 3\n",
        "y = 2\n",
        "x is y # x = 3, y = 2\n",
        "x is not y"
      ],
      "metadata": {
        "id": "0AA7oRk_wq3l",
        "outputId": "ad7f16e5-39f6-4caf-e1dc-aa1c9e839a2d",
        "colab": {
          "base_uri": "https://localhost:8080/"
        }
      },
      "execution_count": 15,
      "outputs": [
        {
          "output_type": "execute_result",
          "data": {
            "text/plain": [
              "True"
            ]
          },
          "metadata": {},
          "execution_count": 15
        }
      ]
    },
    {
      "cell_type": "markdown",
      "source": [
        "Bitwise Operators"
      ],
      "metadata": {
        "id": "uzpbEhEywtwV"
      }
    },
    {
      "cell_type": "code",
      "source": [
        "# 10 + 1 = 11 ; 1010 + 0001 = 1011\n",
        "print(10 | 1)\n",
        "\n",
        "print(x>>1) # x = 3, 011"
      ],
      "metadata": {
        "id": "iMVvpoSbwwH9",
        "outputId": "0c04632e-6b31-4fb7-c9cf-fd0a999fb64f",
        "colab": {
          "base_uri": "https://localhost:8080/"
        }
      },
      "execution_count": 16,
      "outputs": [
        {
          "output_type": "stream",
          "name": "stdout",
          "text": [
            "11\n",
            "1\n"
          ]
        }
      ]
    },
    {
      "cell_type": "markdown",
      "source": [
        "Application 1"
      ],
      "metadata": {
        "id": "PSDwckMYw3kN"
      }
    },
    {
      "cell_type": "code",
      "execution_count": null,
      "metadata": {
        "id": "KCM9LS7_VN94"
      },
      "outputs": [],
      "source": [
        "  #Create a Python program that displays your Fullname, Age, and Course and Section\n",
        "\n",
        "fullName = str(\"Joven Carl B. Palabay\\n\")\n",
        "age = str(\"20 years old\\n\")\n",
        "courseSection = str(\"CPE 0332.1-1\")\n",
        "\n",
        "print(fullName + age + courseSection)"
      ]
    }
  ]
}